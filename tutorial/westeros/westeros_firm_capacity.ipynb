{
 "cells": [
  {
   "cell_type": "code",
   "execution_count": 1,
   "metadata": {},
   "outputs": [],
   "source": [
    "import pandas as pd\n",
    "import ixmp as ix\n",
    "import message_ix\n",
    "\n",
    "from message_ix.utils import make_df\n",
    "\n",
    "%matplotlib inline"
   ]
  },
  {
   "cell_type": "code",
   "execution_count": 2,
   "metadata": {},
   "outputs": [
    {
     "name": "stderr",
     "output_type": "stream",
     "text": [
      "INFO:root:launching ixmp.Platform with local HSQLDB database at 'C:\\Users\\ga46gup\\.local\\ixmp\\localdb\\default'\n"
     ]
    }
   ],
   "source": [
    "mp = ix.Platform(dbtype='HSQLDB')"
   ]
  },
  {
   "cell_type": "code",
   "execution_count": 3,
   "metadata": {},
   "outputs": [],
   "source": [
    "base = message_ix.Scenario(mp, model='Westeros Electrified', \n",
    "                               scen='carbon_tax')"
   ]
  },
  {
   "cell_type": "code",
   "execution_count": 4,
   "metadata": {},
   "outputs": [],
   "source": [
    "model = 'Westeros Electrified'\n",
    "scen = base.clone(model, 'firm_capacity','testing new formulation', keep_sol=False)\n",
    "scen.check_out()\n",
    "\n",
    "vintage_years, act_years = scen.vintage_and_active_years()\n",
    "model_horizon = scen.set('year')\n",
    "country = 'Westeros'"
   ]
  },
  {
   "cell_type": "markdown",
   "metadata": {},
   "source": [
    "## add Renewbale Formulation\n"
   ]
  },
  {
   "cell_type": "markdown",
   "metadata": {},
   "source": [
    "### Load Factors - Describing the Electricity Sector\n",
    "#### Peak load \n",
    "If we further specify our demand, we will find that the demand for electricity (!not the demand for useful light but for electricity!) has a peak load that is different from the annual average load; e.g: if annual average load is 5 GWh peak load during midday might be 10GW --> the peak load factor is equal to 2."
   ]
  },
  {
   "cell_type": "code",
   "execution_count": 5,
   "metadata": {},
   "outputs": [],
   "source": [
    "# peak_load_factor(node,commodity,level,year,time)\n",
    "peak_load_factor = pd.DataFrame({\n",
    "        'node': country,\n",
    "        'commodity': 'electricity',\n",
    "        'level' : 'secondary',       \n",
    "        'year': model_horizon,\n",
    "        'time' : 'year',\n",
    "        'value' : 2,\n",
    "        'unit' : '???'})\n",
    "\n",
    "scen.add_par('peak_load_factor', peak_load_factor)"
   ]
  },
  {
   "cell_type": "markdown",
   "metadata": {},
   "source": [
    "## Describing the Renewable Technologies Reliability\n",
    "### rating and reliability --> Ensuring enough Firm Capacity\n",
    "we assume, that up to a share of 20% of total electricity supply, the capacity of wind_ppl adds by 80% to the firm capacity of the power system (r1). The remaining 90% installed capacity, however  only  5% contribute to the firm capcity (r2). The coal power plant supplies full reliability independet of the supply share.\n"
   ]
  },
  {
   "cell_type": "code",
   "execution_count": 6,
   "metadata": {},
   "outputs": [],
   "source": [
    "base_reliability = pd.DataFrame({\n",
    "        'node': country,\n",
    "        'commodity': 'electricity',\n",
    "        'level' : 'secondary', \n",
    "        'unit': '???',\n",
    "        'time': 'year',\n",
    "        'year_act': model_horizon})"
   ]
  },
  {
   "cell_type": "code",
   "execution_count": 7,
   "metadata": {},
   "outputs": [],
   "source": [
    "# add the ratings as a set \n",
    "scen.add_set('rating', ['r1', 'r2'])\n",
    "\n",
    "# for Wind PPL\n",
    "rating_bin = make_df(base_reliability, technology= 'wind_ppl', value = 0.2, rating= 'r1')\n",
    "scen.add_par('rating_bin', rating_bin)\n",
    "\n",
    "reliability_factor = make_df(base_reliability, technology= 'wind_ppl', value = 0.9, rating= 'r1')\n",
    "scen.add_par('reliability_factor', reliability_factor)\n",
    "\n",
    "rating_bin = make_df(base_reliability, technology= 'wind_ppl', value = 0.3, rating= 'r2')\n",
    "scen.add_par('rating_bin', rating_bin)\n",
    "\n",
    "reliability_factor = make_df(base_reliability, technology= 'wind_ppl', value = 0.01, rating= 'r2')\n",
    "scen.add_par('reliability_factor', reliability_factor)\n",
    "\n",
    "# for Coal PPL\n",
    "reliability_factor = make_df(base_reliability, technology= 'coal_ppl', value = 1, rating= 'firm')\n",
    "scen.add_par('reliability_factor', reliability_factor)"
   ]
  },
  {
   "cell_type": "markdown",
   "metadata": {},
   "source": [
    "### commit and solve"
   ]
  },
  {
   "cell_type": "code",
   "execution_count": 8,
   "metadata": {},
   "outputs": [],
   "source": [
    "scen.commit(comment='define parameters for renewable implementation')\n",
    "scen.set_as_default()"
   ]
  },
  {
   "cell_type": "code",
   "execution_count": 9,
   "metadata": {},
   "outputs": [],
   "source": [
    "scen.solve()"
   ]
  },
  {
   "cell_type": "code",
   "execution_count": 10,
   "metadata": {},
   "outputs": [
    {
     "data": {
      "text/plain": [
       "588099.625"
      ]
     },
     "execution_count": 10,
     "metadata": {},
     "output_type": "execute_result"
    }
   ],
   "source": [
    "scen.var('OBJ')['lvl']"
   ]
  },
  {
   "cell_type": "markdown",
   "metadata": {},
   "source": [
    "### plotting"
   ]
  },
  {
   "cell_type": "code",
   "execution_count": 11,
   "metadata": {},
   "outputs": [],
   "source": [
    "from tools import Plots\n",
    "p = Plots(scen, country, firstyear=700)"
   ]
  },
  {
   "cell_type": "code",
   "execution_count": 12,
   "metadata": {},
   "outputs": [
    {
     "data": {
      "image/png": "[encoded data removed]",
      "text/plain": [
       "<matplotlib.figure.Figure at 0x2295f7f6be0>"
      ]
     },
     "metadata": {},
     "output_type": "display_data"
    }
   ],
   "source": [
    "p.plot_activity(baseyear=True, subset=['coal_ppl', 'wind_ppl'])"
   ]
  },
  {
   "cell_type": "code",
   "execution_count": 13,
   "metadata": {},
   "outputs": [
    {
     "data": {
      "image/png": "[encoded data removed]",
      "text/plain": [
       "<matplotlib.figure.Figure at 0x2295fc8ad68>"
      ]
     },
     "metadata": {},
     "output_type": "display_data"
    }
   ],
   "source": [
    "p.plot_capacity(baseyear=True, subset=['coal_ppl', 'wind_ppl'])"
   ]
  },
  {
   "cell_type": "code",
   "execution_count": 14,
   "metadata": {},
   "outputs": [
    {
     "data": {
      "image/png": "[encoded data removed]",
      "text/plain": [
       "<matplotlib.figure.Figure at 0x2295ff2c358>"
      ]
     },
     "metadata": {},
     "output_type": "display_data"
    }
   ],
   "source": [
    "p.plot_prices(subset=['light'], baseyear=True)"
   ]
  },
  {
   "cell_type": "code",
   "execution_count": 15,
   "metadata": {},
   "outputs": [],
   "source": [
    "mp.close_db()"
   ]
  },
  {
   "cell_type": "code",
   "execution_count": null,
   "metadata": {},
   "outputs": [],
   "source": []
  }
 ],
 "metadata": {
  "kernelspec": {
   "display_name": "Python 3",
   "language": "python",
   "name": "python3"
  },
  "language_info": {
   "codemirror_mode": {
    "name": "ipython",
    "version": 3
   },
   "file_extension": ".py",
   "mimetype": "text/x-python",
   "name": "python",
   "nbconvert_exporter": "python",
   "pygments_lexer": "ipython3",
   "version": "3.6.3"
  }
 },
 "nbformat": 4,
 "nbformat_minor": 2
}
