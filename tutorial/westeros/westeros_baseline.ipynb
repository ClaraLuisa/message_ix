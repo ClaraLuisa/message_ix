{
 "cells": [
  {
   "cell_type": "markdown",
   "metadata": {
    "slideshow": {
     "slide_type": "slide"
    }
   },
   "source": [
    "# Welcome to MESSAGEix\n",
    "\n",
    "## Integrated Assessment Modeling for the 21st Century\n",
    "\n",
    "### Matthew Gidden, International Institute for Applied Systems Analysis\n",
    "\n",
    "#### Email: gidden@iiasa.ac.at, Github: @gidden\n",
    "\n",
    "#### https://iiasa.github.io/ene-present.github.io/cnrs-2018"
   ]
  },
  {
   "cell_type": "markdown",
   "metadata": {
    "slideshow": {
     "slide_type": "slide"
    }
   },
   "source": [
    "# Building a Simple Energy Model\n",
    "\n",
    "The goal of this tutorial is to build a simple energy model using `MESSAGEix` with minimal features that can be expanded in future tutorials.  \n",
    "\n",
    "We will build the model component by component, focusing on both the **how** (code implementation) and **why** (mathematical formulation)."
   ]
  },
  {
   "cell_type": "markdown",
   "metadata": {
    "slideshow": {
     "slide_type": "slide"
    }
   },
   "source": [
    "# Follow Along at Home\n",
    "\n",
    "The full model documentation is available online at [https://messageix.iiasa.ac.at](https://messageix.iiasa.ac.at)\n",
    "    \n",
    "<img src='assests/doc_page.png'>"
   ]
  },
  {
   "cell_type": "markdown",
   "metadata": {
    "slideshow": {
     "slide_type": "fragment"
    }
   },
   "source": [
    "And you can easily install `MESSAGEix` yourself and get all the tutorials:\n",
    "\n",
    "```shell\n",
    "$ conda install -c conda-forge message-ix\n",
    "$ messageix-dl # install all tutorials to your current directory\n",
    "```"
   ]
  },
  {
   "cell_type": "markdown",
   "metadata": {
    "slideshow": {
     "slide_type": "slide"
    }
   },
   "source": [
    "# MESSAGEix\n",
    "\n",
    "<img src='assests/austria.png' width='700'>"
   ]
  },
  {
   "cell_type": "markdown",
   "metadata": {
    "slideshow": {
     "slide_type": "slide"
    }
   },
   "source": [
    "# MESSAGEix: the Model\n",
    "\n",
    "At it's core, an optimization problem:\n",
    "\n",
    "$\\min c^T x$  \n",
    "$s.t. Ax \\leq b$  "
   ]
  },
  {
   "cell_type": "markdown",
   "metadata": {
    "slideshow": {
     "slide_type": "fragment"
    }
   },
   "source": [
    "- system of **constraint** equations\n",
    "- optimizing an **objective function**, nominally minimizing total system **cost**\n",
    "- decision VARIABLES ($x$) are capitalized\n",
    "- parameters ($A$, $b$) are lower case"
   ]
  },
  {
   "cell_type": "markdown",
   "metadata": {
    "slideshow": {
     "slide_type": "slide"
    }
   },
   "source": [
    "## MESSAGEix: the Tool\n",
    "\n",
    "<img src='assests/message.png' width='700'>"
   ]
  },
  {
   "cell_type": "markdown",
   "metadata": {
    "slideshow": {
     "slide_type": "slide"
    }
   },
   "source": [
    "# A Brave New World: Westeros with Electricity!"
   ]
  },
  {
   "cell_type": "markdown",
   "metadata": {
    "slideshow": {
     "slide_type": "fragment"
    }
   },
   "source": [
    "<table align='center'><tr><td><img src='assests/westeros.jpg' width='150'></td><td><img src='assests/base_res.png'></td></tr></table>"
   ]
  },
  {
   "cell_type": "markdown",
   "metadata": {
    "slideshow": {
     "slide_type": "slide"
    }
   },
   "source": [
    "## Setup\n",
    "\n",
    "First, we import all the packages we need."
   ]
  },
  {
   "cell_type": "code",
   "execution_count": 120,
   "metadata": {
    "slideshow": {
     "slide_type": "fragment"
    }
   },
   "outputs": [],
   "source": [
    "import pandas as pd\n",
    "import ixmp as ix\n",
    "import message_ix\n",
    "\n",
    "from message_ix.utils import make_df\n",
    "\n",
    "%matplotlib inline"
   ]
  },
  {
   "cell_type": "markdown",
   "metadata": {
    "slideshow": {
     "slide_type": "slide"
    }
   },
   "source": [
    "The `Platform` is your connection to a database"
   ]
  },
  {
   "cell_type": "code",
   "execution_count": 121,
   "metadata": {
    "slideshow": {
     "slide_type": "fragment"
    }
   },
   "outputs": [
    {
     "name": "stderr",
     "output_type": "stream",
     "text": [
      "INFO:root:launching ixmp.Platform with local HSQLDB database at 'C:\\Users\\ga46gup\\.local\\ixmp\\localdb\\default'\n"
     ]
    }
   ],
   "source": [
    "mp = ix.Platform(dbtype='HSQLDB')"
   ]
  },
  {
   "cell_type": "markdown",
   "metadata": {
    "slideshow": {
     "slide_type": "slide"
    }
   },
   "source": [
    "Once connected, we make our `Scenario` which we use to build our model."
   ]
  },
  {
   "cell_type": "code",
   "execution_count": 122,
   "metadata": {
    "slideshow": {
     "slide_type": "fragment"
    }
   },
   "outputs": [],
   "source": [
    "scenario = message_ix.Scenario(mp, model='Westeros Electrified', \n",
    "                               scen='baseline', version='new')"
   ]
  },
  {
   "cell_type": "markdown",
   "metadata": {
    "slideshow": {
     "slide_type": "slide"
    }
   },
   "source": [
    "## Model Structure\n",
    "\n",
    "We start by defining basic characteristics of the model, including time, space, and the energy system structure."
   ]
  },
  {
   "cell_type": "markdown",
   "metadata": {
    "slideshow": {
     "slide_type": "fragment"
    }
   },
   "source": [
    "The model horizon will span 3 decades. Let's assume that we're far in the future after the events of A Song of Ice and Fire (which occur ~300 years after Aegon the conqueror).\n",
    "\n",
    "| Math Notation | Model Meaning                |\n",
    "|---------------|------------------------------|\n",
    "| $y \\in Y^H$   | time periods in history      |\n",
    "| $y \\in Y^M$   | time periods in model horizon|"
   ]
  },
  {
   "cell_type": "code",
   "execution_count": 123,
   "metadata": {
    "slideshow": {
     "slide_type": "fragment"
    }
   },
   "outputs": [],
   "source": [
    "history = [690]\n",
    "model_horizon = [700, 710, 720]\n",
    "scenario.add_horizon({'year': history + model_horizon,  \n",
    "                      'firstmodelyear': model_horizon[0]})"
   ]
  },
  {
   "cell_type": "markdown",
   "metadata": {
    "slideshow": {
     "slide_type": "slide"
    }
   },
   "source": [
    "Our model will have a single `node`, i.e., its spatial dimension.\n",
    "\n",
    "\n",
    "| Math Notation | Model Meaning|\n",
    "|---------------|--------------|\n",
    "| $n \\in N$     | node         |"
   ]
  },
  {
   "cell_type": "code",
   "execution_count": 124,
   "metadata": {
    "slideshow": {
     "slide_type": "fragment"
    }
   },
   "outputs": [],
   "source": [
    "country = 'Westeros'\n",
    "scenario.add_spatial_sets({'country': country})"
   ]
  },
  {
   "cell_type": "markdown",
   "metadata": {
    "slideshow": {
     "slide_type": "slide"
    }
   },
   "source": [
    "And we fill in the energy system's `commodities`, `levels`, `technologies`, and `mode` (defining how certain technologies operate). \n",
    "\n",
    "\n",
    "| Math Notation | Model Meaning|\n",
    "|---------------|--------------|\n",
    "| $c \\in C$     | commodity    |\n",
    "| $l \\in L$     | level        |\n",
    "| $t \\in T$     | technology   |\n",
    "| $m \\in M$     | mode         |"
   ]
  },
  {
   "cell_type": "code",
   "execution_count": 125,
   "metadata": {
    "slideshow": {
     "slide_type": "fragment"
    }
   },
   "outputs": [],
   "source": [
    "scenario.add_set(\"commodity\", [\"electricity\", \"light\"])\n",
    "\n",
    "scenario.add_set(\"level\", [\"secondary\", \"final\", \"useful\"])\n",
    "\n",
    "scenario.add_set(\"technology\", ['coal_ppl', 'wind_ppl', 'grid', 'bulb'])\n",
    "\n",
    "scenario.add_set(\"mode\", \"standard\")"
   ]
  },
  {
   "cell_type": "markdown",
   "metadata": {
    "slideshow": {
     "slide_type": "slide"
    }
   },
   "source": [
    "## Supply and Demand (or Balancing Commodities)"
   ]
  },
  {
   "cell_type": "markdown",
   "metadata": {
    "slideshow": {
     "slide_type": "fragment"
    }
   },
   "source": [
    "The fundamental premise of the model is to satisfy demand. To first order, demand for services like electricity track with economic productivity (GDP). We define a GDP profile similar to first-world GDP growth from [1900-1930](https://en.wikipedia.org/wiki/List_of_regions_by_past_GDP):"
   ]
  },
  {
   "cell_type": "code",
   "execution_count": 126,
   "metadata": {
    "slideshow": {
     "slide_type": "fragment"
    }
   },
   "outputs": [
    {
     "data": {
      "text/plain": [
       "<matplotlib.axes._subplots.AxesSubplot at 0x187e4dac3c8>"
      ]
     },
     "execution_count": 126,
     "metadata": {},
     "output_type": "execute_result"
    },
    {
     "data": {
      "image/png": "[encoded data removed]",
      "text/plain": [
       "<matplotlib.figure.Figure at 0x187e4cff1d0>"
      ]
     },
     "metadata": {},
     "output_type": "display_data"
    }
   ],
   "source": [
    "gdp_profile = pd.Series([1., 1.5, 1.9], \n",
    "                        index=pd.Index(model_horizon, name='Time'))\n",
    "gdp_profile.plot(title='Demand')"
   ]
  },
  {
   "cell_type": "markdown",
   "metadata": {
    "slideshow": {
     "slide_type": "slide"
    }
   },
   "source": [
    "The `COMMODITY_BALANCE` equation ensures that `demand` for each `commodity` is met at each `level` in the energy system.\n",
    "\n",
    "$\\sum_{\\substack{n^L,t,m \\\\ y^V \\leq y}} output_{n^L,t,y^V,y,m,n,c,l} \\cdot ACT_{n^L,t,y^V,y,m}$  \n",
    "$- \\sum_{\\substack{n^L,t,m, \\\\ y^V \\leq y}} input_{n^L,t,y^V,y,m,n,c,l} \\cdot ACT_{n^L,t,m,y}$  \n",
    "$\\geq demand_{n,c,l,y} \\quad \\forall \\ l \\in L$\n",
    "\n",
    "While `demand` must be met, it can also be *exceeded* allowing the model to plan for future periods of demand for storable commodities.\n"
   ]
  },
  {
   "cell_type": "markdown",
   "metadata": {
    "slideshow": {
     "slide_type": "slide"
    }
   },
   "source": [
    "First we establish demand. Let's assume\n",
    "\n",
    "- 40 million people in [300 AC](https://atlasoficeandfireblog.wordpress.com/2016/03/06/the-population-of-the-seven-kingdoms/)\n",
    "- similar population growth to Earth in the same time frame [(~factor of 12)](https://en.wikipedia.org/wiki/World_population_estimates)\n",
    "- a per capita demand for electricity of 1000 kWh\n",
    "- and 8760 hours in a year (of course!)\n",
    "\n",
    "Then we can add the demand parameter"
   ]
  },
  {
   "cell_type": "markdown",
   "metadata": {
    "slideshow": {
     "slide_type": "skip"
    }
   },
   "source": [
    "Note present day: [~17000 GWh in Austria](http://www.iea.org/statistics/statisticssearch/report/?country=AUSTRIA&product=electricityandheat&year=2015) with population [~9M](http://www.austria.org/population/) which is ~1890 kWh per capita"
   ]
  },
  {
   "cell_type": "code",
   "execution_count": 127,
   "metadata": {
    "slideshow": {
     "slide_type": "fragment"
    }
   },
   "outputs": [],
   "source": [
    "demand_per_year = 40 * 12 * 1000 / 8760\n",
    "light_demand = pd.DataFrame({\n",
    "        'node': country,\n",
    "        'commodity': 'light',\n",
    "        'level': 'useful',\n",
    "        'year': model_horizon,\n",
    "        'time': 'year',\n",
    "        'value': round(100 * gdp_profile,0),\n",
    "        'unit': 'GWa',\n",
    "    })"
   ]
  },
  {
   "cell_type": "code",
   "execution_count": 128,
   "metadata": {
    "slideshow": {
     "slide_type": "fragment"
    }
   },
   "outputs": [],
   "source": [
    "scenario.add_par(\"demand\", light_demand)"
   ]
  },
  {
   "cell_type": "code",
   "execution_count": 129,
   "metadata": {
    "slideshow": {
     "slide_type": "skip"
    }
   },
   "outputs": [],
   "source": [
    "#TODO Hide this one\n",
    "\n",
    "vintage_years, act_years = scenario.vintage_and_active_years()\n",
    "\n",
    "base_input = {\n",
    "    'node_loc': country,\n",
    "    'year_vtg': vintage_years\n",
    "    ,\n",
    "    'year_act': act_years,\n",
    "    'mode': 'standard',\n",
    "    'node_origin': country,\n",
    "    'commodity': 'electricity',\n",
    "    'time': 'year',\n",
    "    'time_origin': 'year',\n",
    "}\n",
    "\n",
    "base_output = {\n",
    "    'node_loc': country,\n",
    "    'year_vtg': vintage_years,\n",
    "    'year_act': act_years,\n",
    "    'mode': 'standard',\n",
    "    'node_dest': country,\n",
    "    'time': 'year',\n",
    "    'time_dest': 'year', \n",
    "    'unit': '%',\n",
    "}"
   ]
  },
  {
   "cell_type": "markdown",
   "metadata": {
    "slideshow": {
     "slide_type": "slide"
    }
   },
   "source": [
    "Working backwards along the Reference Energy System, we can add connections for the `bulb`"
   ]
  },
  {
   "cell_type": "code",
   "execution_count": 130,
   "metadata": {
    "slideshow": {
     "slide_type": "fragment"
    }
   },
   "outputs": [],
   "source": [
    "bulb_out = make_df(base_output, technology='bulb', commodity='light', \n",
    "                   level='useful', value=1.0)\n",
    "scenario.add_par('output', bulb_out)\n",
    "\n",
    "bulb_in = make_df(base_input, technology='bulb', commodity='electricity',  \n",
    "                  level='final', value=1.0, unit='%')\n",
    "scenario.add_par('input', bulb_in)"
   ]
  },
  {
   "cell_type": "markdown",
   "metadata": {
    "slideshow": {
     "slide_type": "slide"
    }
   },
   "source": [
    "Next, the `grid`, with loses of 13%"
   ]
  },
  {
   "cell_type": "code",
   "execution_count": 131,
   "metadata": {
    "slideshow": {
     "slide_type": "fragment"
    }
   },
   "outputs": [],
   "source": [
    "grid_efficiency = 1\n",
    "grid_out = make_df(base_output, technology='grid', commodity='electricity', \n",
    "                   level='final', value=grid_efficiency)\n",
    "scenario.add_par('output', grid_out)\n",
    "\n",
    "grid_in = make_df(base_input, technology='grid', commodity='electricity',\n",
    "                  level='secondary', value=1.0, unit='%')\n",
    "scenario.add_par('input', grid_in)"
   ]
  },
  {
   "cell_type": "markdown",
   "metadata": {
    "slideshow": {
     "slide_type": "slide"
    }
   },
   "source": [
    "And finally, our power plants. The model does not include the fossil resources used as `input` for coal plants; however, costs of coal extraction are included in the parameter $variable\\_cost$."
   ]
  },
  {
   "cell_type": "code",
   "execution_count": 132,
   "metadata": {
    "slideshow": {
     "slide_type": "fragment"
    }
   },
   "outputs": [],
   "source": [
    "coal_out = make_df(base_output, technology='coal_ppl', commodity='electricity', \n",
    "                   level='secondary', value=1.)\n",
    "scenario.add_par('output', coal_out)\n",
    "\n",
    "wind_out = make_df(base_output, technology='wind_ppl', commodity='electricity', \n",
    "                   level='secondary', value=1.)\n",
    "scenario.add_par('output', wind_out)"
   ]
  },
  {
   "cell_type": "markdown",
   "metadata": {
    "slideshow": {
     "slide_type": "slide"
    }
   },
   "source": [
    "## Operational Constraints and Parameters"
   ]
  },
  {
   "cell_type": "markdown",
   "metadata": {
    "slideshow": {
     "slide_type": "fragment"
    }
   },
   "source": [
    "The model has a number of \"reality\" constraints, which relate built capacity to available power.\n",
    "\n",
    "The `CAPACITY_CONSTRAINT` \n",
    "\n",
    "$\\sum_{m} ACT_{n,t,y^V,y,m,h}\n",
    "    \\leq duration\\_time_{h} \\cdot capacity\\_factor_{n,t,y^V,y,h} \\cdot CAP_{n,t,y^V,y}\n",
    "    \\quad t \\ \\in \\ T^{INV}$\n"
   ]
  },
  {
   "cell_type": "markdown",
   "metadata": {
    "slideshow": {
     "slide_type": "slide"
    }
   },
   "source": [
    "This requires us to provide capacity factors"
   ]
  },
  {
   "cell_type": "code",
   "execution_count": 133,
   "metadata": {
    "slideshow": {
     "slide_type": "skip"
    }
   },
   "outputs": [],
   "source": [
    "#TODO: Hide this\n",
    "base_capacity_factor = {\n",
    "    'node_loc': country,\n",
    "    'year_vtg': vintage_years,\n",
    "    'year_act': act_years,\n",
    "    'time': 'year',\n",
    "    'unit': '%',\n",
    "}"
   ]
  },
  {
   "cell_type": "code",
   "execution_count": 134,
   "metadata": {
    "slideshow": {
     "slide_type": "fragment"
    }
   },
   "outputs": [],
   "source": [
    "capacity_factor = {\n",
    "    'coal_ppl': 1,\n",
    "    'wind_ppl': 1,\n",
    "    'bulb':1, \n",
    "}\n",
    "\n",
    "for tec, val in capacity_factor.items():\n",
    "    df = make_df(base_capacity_factor, technology=tec, value=val)\n",
    "    scenario.add_par('capacity_factor', df)"
   ]
  },
  {
   "cell_type": "markdown",
   "metadata": {
    "slideshow": {
     "slide_type": "slide"
    }
   },
   "source": [
    "The model can further be provided `technical_lifetime`s in order to properly manage deployed capacity and related costs via the `CAPACITY_MAINTENENCE` constraint:\n",
    "\n",
    "$CAP_{n,t,y^V,y} \\leq remaining\\_capacity_{n,t,y^V,y} \\cdot value \\: \\: \\forall t \\in T^{INV}$\n",
    "\n",
    "Where `value` can take different forms depending on what time period is considered:\n",
    "\n",
    "| Value                                 | Condition                                                      |\n",
    "|---------------------------------------|----------------------------------------------------------------|\n",
    "| $\\Delta_y historical\\_new\\_capacity_{n,t,y^V}$ | $y$ is first model period                                      |\n",
    "| $\\Delta_y CAP\\_NEW_{n,t,y^V}$                  | $y = y^V$                                                      |\n",
    "| $CAP_{n,t,y^V,y-1}$                   | if $y > y^V$ and $y - y^V < technical\\_lifetime_{n,t,y^V}$     |\n"
   ]
  },
  {
   "cell_type": "code",
   "execution_count": 135,
   "metadata": {
    "slideshow": {
     "slide_type": "skip"
    }
   },
   "outputs": [],
   "source": [
    "base_technical_lifetime = {\n",
    "    'node_loc': country,\n",
    "    'year_vtg': model_horizon,\n",
    "    'unit': 'y',\n",
    "}"
   ]
  },
  {
   "cell_type": "code",
   "execution_count": 136,
   "metadata": {
    "slideshow": {
     "slide_type": "fragment"
    }
   },
   "outputs": [],
   "source": [
    "lifetime = {\n",
    "    'coal_ppl': 20,\n",
    "    'wind_ppl': 20,\n",
    "    'bulb': 1,\n",
    "}\n",
    "\n",
    "for tec, val in lifetime.items():\n",
    "    df = make_df(base_technical_lifetime, technology=tec, value=val)\n",
    "    scenario.add_par('technical_lifetime', df)"
   ]
  },
  {
   "cell_type": "markdown",
   "metadata": {
    "slideshow": {
     "slide_type": "slide"
    }
   },
   "source": [
    "## Technological Diffusion and Contraction\n",
    "\n",
    "We know from historical precedent that energy systems can not be transformed instantaneously. Therefore, we use a family of constraints on **activity** (`ACT`) and **capacity** (`CAP`). "
   ]
  },
  {
   "cell_type": "markdown",
   "metadata": {
    "slideshow": {
     "slide_type": "fragment"
    }
   },
   "source": [
    "$\\sum_{y^V \\leq y,m} ACT_{n,t,y^V,y,m,h} \\leq$  \n",
    "$initial\\_activity\\_up_{n,t,y,h}\n",
    "        \\cdot \\frac{ \\Big( 1 + growth\\_activity\\_up_{n,t,y,h} \\Big)^{|y|} - 1 }\n",
    "                   { growth\\_activity\\_up_{n,t,y,h} }+ \\Big( 1 + growth\\_activity\\_up_{n,t,y,h} \\Big)^{|y|} \\cdot \\Big( \\sum_{y^V \\leq y-1,m} ACT_{n,t,y^V,y-1,m,h} + \\sum_{m} historical\\_activity_{n,t,y-1,m,h}\\Big)$  "
   ]
  },
  {
   "cell_type": "markdown",
   "metadata": {
    "slideshow": {
     "slide_type": "slide"
    }
   },
   "source": [
    "This example limits the ability for technologies to **grow**. To do so, we  need to provide `growth_activity_up` values for each technology that we want to model as being diffusion constrained. Here, we set this constraint at 5% per year."
   ]
  },
  {
   "cell_type": "code",
   "execution_count": 137,
   "metadata": {
    "slideshow": {
     "slide_type": "skip"
    }
   },
   "outputs": [],
   "source": [
    "## TODO: hide this\n",
    "base_growth = {\n",
    "    'node_loc': country,\n",
    "    'year_act': model_horizon,\n",
    "    'time': 'year',\n",
    "    'unit': '%',\n",
    "}"
   ]
  },
  {
   "cell_type": "code",
   "execution_count": 138,
   "metadata": {
    "slideshow": {
     "slide_type": "fragment"
    }
   },
   "outputs": [],
   "source": [
    "growth_technologies = [\n",
    "    \"coal_ppl\", \n",
    "    \"wind_ppl\", \n",
    "]\n",
    "\n",
    "for tec in growth_technologies:\n",
    "    df = make_df(base_growth, technology=tec, value=0.1) \n",
    "    scenario.add_par('growth_activity_up', df)"
   ]
  },
  {
   "cell_type": "markdown",
   "metadata": {
    "slideshow": {
     "slide_type": "slide"
    }
   },
   "source": [
    "## Defining an Energy Mix\n",
    "\n",
    "To model the transition of an energy system, one must start with the existing system which are defined by the parameters `historical_activity` and `historical_capacity`. These parameters define the energy mix before the model horizon.  \n",
    "\n",
    "We begin by defining a few key values:\n",
    "\n",
    "- how much useful energy was needed\n",
    "- how much final energy was generated\n",
    "- and the mix for different technologies"
   ]
  },
  {
   "cell_type": "code",
   "execution_count": 139,
   "metadata": {
    "slideshow": {
     "slide_type": "fragment"
    }
   },
   "outputs": [],
   "source": [
    "historic_demand = 0.85 * demand_per_year\n",
    "historic_generation = historic_demand / grid_efficiency\n",
    "coal_fraction = 0.6"
   ]
  },
  {
   "cell_type": "code",
   "execution_count": 140,
   "metadata": {
    "slideshow": {
     "slide_type": "skip"
    }
   },
   "outputs": [],
   "source": [
    "# TODO: hide\n",
    "\n",
    "base_capacity = {\n",
    "    'node_loc': country,\n",
    "    'year_vtg': history,\n",
    "    'unit': 'GWa',\n",
    "}\n",
    "\n",
    "base_activity = {\n",
    "    'node_loc': country,\n",
    "    'year_act': history,\n",
    "    'mode': 'standard',\n",
    "    'time': 'year',\n",
    "    'unit': 'GWa',\n",
    "}\n"
   ]
  },
  {
   "cell_type": "markdown",
   "metadata": {
    "slideshow": {
     "slide_type": "slide"
    }
   },
   "source": [
    "Then, we can define the **activity** and **capacity** in the historic period"
   ]
  },
  {
   "cell_type": "code",
   "execution_count": 141,
   "metadata": {
    "slideshow": {
     "slide_type": "fragment"
    }
   },
   "outputs": [],
   "source": [
    "old_activity = {\n",
    "    'coal_ppl': coal_fraction * historic_generation,\n",
    "    'wind_ppl': (1 - coal_fraction) * historic_generation,\n",
    "}\n",
    "\n",
    "for tec, val in old_activity.items():\n",
    "    df = make_df(base_activity, technology=tec, value=val)\n",
    "    scenario.add_par('historical_activity', df)"
   ]
  },
  {
   "cell_type": "code",
   "execution_count": 142,
   "metadata": {
    "slideshow": {
     "slide_type": "fragment"
    }
   },
   "outputs": [],
   "source": [
    "act_to_cap = {\n",
    "    'coal_ppl': 1 / 10 / capacity_factor['coal_ppl'] / 2, # 20 year lifetime\n",
    "    'wind_ppl': 1 / 10 / capacity_factor['wind_ppl'] / 2,\n",
    "}\n",
    "\n",
    "for tec in act_to_cap:\n",
    "    value = old_activity[tec] * act_to_cap[tec]\n",
    "    df = make_df(base_capacity, technology=tec, value=value)\n",
    "    scenario.add_par('historical_new_capacity', df)"
   ]
  },
  {
   "cell_type": "markdown",
   "metadata": {
    "slideshow": {
     "slide_type": "slide"
    }
   },
   "source": [
    "## Objective Function\n",
    "\n",
    "The objective function drives the purpose of the optimization. Do we wish to seek maximum utility of the social planner, minimize carbon emissions, or something else? Classical IAMs seek to minimize total discounted system cost over space and time. \n",
    "\n",
    "$\\min \\sum_{n,y \\in Y^{M}} interestrate_{y} \\cdot COST\\_NODAL_{n,y}$\n"
   ]
  },
  {
   "cell_type": "markdown",
   "metadata": {
    "slideshow": {
     "slide_type": "fragment"
    }
   },
   "source": [
    "First, let's add the interest rate parameter."
   ]
  },
  {
   "cell_type": "code",
   "execution_count": 143,
   "metadata": {
    "slideshow": {
     "slide_type": "fragment"
    }
   },
   "outputs": [],
   "source": [
    "rate = [0.05] * len(model_horizon)\n",
    "unit = ['%'] * len(model_horizon)\n",
    "scenario.add_par(\"interestrate\", key=model_horizon, val=rate, unit=unit)"
   ]
  },
  {
   "cell_type": "markdown",
   "metadata": {
    "slideshow": {
     "slide_type": "fragment"
    }
   },
   "source": [
    "`COST_NODAL` is comprised of a variety of costs related to the use of different technologies."
   ]
  },
  {
   "cell_type": "markdown",
   "metadata": {
    "slideshow": {
     "slide_type": "slide"
    }
   },
   "source": [
    "### Investment Costs\n",
    "\n",
    "Capital, or investment, costs are invoked whenever a new plant or unit is built\n",
    "\n",
    "$inv\\_cost_{n,t,y} \\cdot construction\\_time\\_factor_{n,t,y} \\cdot CAP\\_NEW_{n,t,y}$"
   ]
  },
  {
   "cell_type": "code",
   "execution_count": 144,
   "metadata": {
    "slideshow": {
     "slide_type": "skip"
    }
   },
   "outputs": [],
   "source": [
    "# TODO hide this\n",
    "base_inv_cost = {\n",
    "    'node_loc': country,\n",
    "    'year_vtg': model_horizon,\n",
    "    'unit': 'USD/GWa',\n",
    "}"
   ]
  },
  {
   "cell_type": "code",
   "execution_count": 145,
   "metadata": {
    "slideshow": {
     "slide_type": "fragment"
    }
   },
   "outputs": [],
   "source": [
    "# in $ / kW\n",
    "costs = {\n",
    "    'coal_ppl': 500,\n",
    "    'wind_ppl': 1500,\n",
    "    'bulb': 5,\n",
    "}\n",
    "\n",
    "for tec, val in costs.items():\n",
    "    df = make_df(base_inv_cost, technology=tec, value=val)\n",
    "    scenario.add_par('inv_cost', df)"
   ]
  },
  {
   "cell_type": "markdown",
   "metadata": {
    "slideshow": {
     "slide_type": "slide"
    }
   },
   "source": [
    "### Fixed O&M Costs\n",
    "\n",
    "Fixed cost are only relevant as long as the capacity is active. This formulation allows to include the potential cost savings from early retirement of installed capacity.\n",
    "\n",
    "$\\sum_{y^V \\leq y} \\ fix\\_cost_{n,t,y^V,y} \\cdot CAP_{n,t,y^V,y}$"
   ]
  },
  {
   "cell_type": "code",
   "execution_count": 146,
   "metadata": {
    "slideshow": {
     "slide_type": "skip"
    }
   },
   "outputs": [],
   "source": [
    "# TODO Hide\n",
    "base_fix_cost = {\n",
    "    'node_loc': country,\n",
    "    'year_vtg': vintage_years,\n",
    "    'year_act': act_years,\n",
    "    'unit': 'USD/GWa',\n",
    "}\n"
   ]
  },
  {
   "cell_type": "code",
   "execution_count": 147,
   "metadata": {
    "slideshow": {
     "slide_type": "fragment"
    }
   },
   "outputs": [],
   "source": [
    "# in $ / kW\n",
    "costs = {\n",
    "    'coal_ppl': 30,\n",
    "    'wind_ppl': 10,\n",
    "}\n",
    "\n",
    "for tec, val in costs.items():\n",
    "    df = make_df(base_fix_cost, technology=tec, value=val)\n",
    "    scenario.add_par('fix_cost', df)"
   ]
  },
  {
   "cell_type": "markdown",
   "metadata": {
    "slideshow": {
     "slide_type": "slide"
    }
   },
   "source": [
    "### Variable O&M Costs\n",
    "\n",
    "Variable Operation and Maintence costs are associated with the costs of actively running the plant. Thus, they are not applied if a plant is on standby (i.e., constructed, but not currently in use).\n",
    "\n",
    "$\\sum_{\\substack{y^V \\leq y \\\\ m,h}} \\ var\\_cost_{n,t,y^V,y,m,h} \\cdot ACT_{n,t,y^V,y,m,h} $"
   ]
  },
  {
   "cell_type": "code",
   "execution_count": 148,
   "metadata": {
    "slideshow": {
     "slide_type": "skip"
    }
   },
   "outputs": [],
   "source": [
    "# TODO hide\n",
    "base_var_cost = {\n",
    "    'node_loc': country,\n",
    "    'year_vtg': vintage_years,\n",
    "    'year_act': act_years,\n",
    "    'mode': 'standard',\n",
    "    'time': 'year',\n",
    "    'unit': 'USD/GWa',\n",
    "}"
   ]
  },
  {
   "cell_type": "code",
   "execution_count": 149,
   "metadata": {
    "slideshow": {
     "slide_type": "fragment"
    }
   },
   "outputs": [],
   "source": [
    "# in $ / MWh\n",
    "costs = {\n",
    "    'coal_ppl': 30,\n",
    "    'grid': 50,\n",
    "}\n",
    "\n",
    "for tec, val in costs.items():\n",
    "    df = make_df(base_var_cost, technology=tec, value=val)\n",
    "    scenario.add_par('var_cost', df)"
   ]
  },
  {
   "cell_type": "markdown",
   "metadata": {
    "slideshow": {
     "slide_type": "slide"
    }
   },
   "source": [
    "A full model will also have costs associated with\n",
    "\n",
    "- resource extraction: $\\sum_{c,g} \\ resource\\_cost_{n,c,g,y} \\cdot EXT_{n,c,g,y} $\n",
    "- emissions (TODO recopy this, hats no good): $\\sum_{e,t, e \\in E(e)} emission\\_scaling_{e,e} \\cdot \\ emission\\_tax_{n,e,t,y} \\cdot EMISS_{n,e,t,y}$\n",
    "- land use (emulator): $\\sum_{s} land\\_cost_{n,s,y} \\cdot LAND_{n,s,y}$\n",
    "- exceedence on \"hard\" bounds of technology expansion and contraction: $\\sum_{m,h} \\ \\Big( abs\\_cost\\_activity\\_soft\\_lo_{n,t,y,m,h} + level\\_cost\\_activity\\_soft\\_lo_{n,t,y,m,h} \\cdot\\ levelized\\_cost_{n,t,y,m,h}\\Big) \\cdot ACT\\_LO_{n,t,y,h}$"
   ]
  },
  {
   "cell_type": "markdown",
   "metadata": {
    "slideshow": {
     "slide_type": "slide"
    }
   },
   "source": [
    "## Time to Solve the Model"
   ]
  },
  {
   "cell_type": "code",
   "execution_count": 150,
   "metadata": {
    "slideshow": {
     "slide_type": "fragment"
    }
   },
   "outputs": [],
   "source": [
    "scenario.commit(comment='basic model of Westerosi electrification')\n",
    "scenario.set_as_default()"
   ]
  },
  {
   "cell_type": "code",
   "execution_count": 151,
   "metadata": {
    "slideshow": {
     "slide_type": "fragment"
    }
   },
   "outputs": [],
   "source": [
    "scenario.solve()"
   ]
  },
  {
   "cell_type": "code",
   "execution_count": 152,
   "metadata": {
    "slideshow": {
     "slide_type": "fragment"
    }
   },
   "outputs": [
    {
     "data": {
      "text/plain": [
       "187445.953125"
      ]
     },
     "execution_count": 152,
     "metadata": {},
     "output_type": "execute_result"
    }
   ],
   "source": [
    "scenario.var('OBJ')['lvl']"
   ]
  },
  {
   "cell_type": "markdown",
   "metadata": {
    "slideshow": {
     "slide_type": "slide"
    }
   },
   "source": [
    "# Plotting Results"
   ]
  },
  {
   "cell_type": "code",
   "execution_count": 153,
   "metadata": {
    "slideshow": {
     "slide_type": "fragment"
    }
   },
   "outputs": [],
   "source": [
    "from tools import Plots\n",
    "p = Plots(scenario, country, firstyear=model_horizon[0])"
   ]
  },
  {
   "cell_type": "markdown",
   "metadata": {
    "slideshow": {
     "slide_type": "slide"
    }
   },
   "source": [
    "# Activity\n",
    "\n",
    "How much energy is generated in each time period from the different potential sources?"
   ]
  },
  {
   "cell_type": "code",
   "execution_count": 154,
   "metadata": {
    "slideshow": {
     "slide_type": "fragment"
    }
   },
   "outputs": [
    {
     "data": {
      "image/png": "[encoded data removed]",
      "text/plain": [
       "<matplotlib.figure.Figure at 0x187e4b8c710>"
      ]
     },
     "metadata": {},
     "output_type": "display_data"
    }
   ],
   "source": [
    "p.plot_activity(baseyear=True, subset=['coal_ppl', 'wind_ppl'])"
   ]
  },
  {
   "cell_type": "markdown",
   "metadata": {
    "slideshow": {
     "slide_type": "slide"
    }
   },
   "source": [
    "## Capacity\n",
    "\n",
    "Given how many new plants are built, how many are actually used?"
   ]
  },
  {
   "cell_type": "code",
   "execution_count": 155,
   "metadata": {
    "slideshow": {
     "slide_type": "fragment"
    }
   },
   "outputs": [
    {
     "data": {
      "image/png": "[encoded data removed]",
      "text/plain": [
       "<matplotlib.figure.Figure at 0x187e4b60160>"
      ]
     },
     "metadata": {},
     "output_type": "display_data"
    }
   ],
   "source": [
    "p.plot_capacity(baseyear=True, subset=['coal_ppl', 'wind_ppl'])"
   ]
  },
  {
   "cell_type": "markdown",
   "metadata": {
    "slideshow": {
     "slide_type": "slide"
    }
   },
   "source": [
    "## Electricity Price\n",
    "\n",
    "And how much does the electricity cost? These prices are taken from the **dual variables** of the solution and are given the name **shadow prices**. They reflect the marginal price of electricity, taken from the most expensive producer.  \n",
    "\n",
    "Note that the price drop when the most expensive technology is no longer in the system."
   ]
  },
  {
   "cell_type": "code",
   "execution_count": 156,
   "metadata": {
    "slideshow": {
     "slide_type": "fragment"
    }
   },
   "outputs": [
    {
     "data": {
      "image/png": "[encoded data removed]",
      "text/plain": [
       "<matplotlib.figure.Figure at 0x187e4e32e48>"
      ]
     },
     "metadata": {},
     "output_type": "display_data"
    }
   ],
   "source": [
    "p.plot_prices(subset=['light'], baseyear=True)"
   ]
  },
  {
   "cell_type": "markdown",
   "metadata": {
    "slideshow": {
     "slide_type": "slide"
    }
   },
   "source": [
    "# Fin\n",
    "\n",
    "With that, you have built and run your very first MESSAGEix model. Welcome to the community!\n",
    "\n",
    "Check us out on Github: https://github.com/iiasa/message_ix  \n",
    "\n",
    "Get in touch with us online: https://groups.google.com/forum/message-ix  \n",
    "\n",
    "And feel free to contact me with any further questions: gidden@iiasa.ac.at"
   ]
  },
  {
   "cell_type": "code",
   "execution_count": 157,
   "metadata": {
    "slideshow": {
     "slide_type": "skip"
    }
   },
   "outputs": [],
   "source": [
    "mp.close_db()"
   ]
  },
  {
   "cell_type": "code",
   "execution_count": null,
   "metadata": {},
   "outputs": [],
   "source": []
  }
 ],
 "metadata": {
  "anaconda-cloud": {},
  "celltoolbar": "Slideshow",
  "kernelspec": {
   "display_name": "Python 3",
   "language": "python",
   "name": "python3"
  },
  "language_info": {
   "codemirror_mode": {
    "name": "ipython",
    "version": 3
   },
   "file_extension": ".py",
   "mimetype": "text/x-python",
   "name": "python",
   "nbconvert_exporter": "python",
   "pygments_lexer": "ipython3",
   "version": "3.6.3"
  }
 },
 "nbformat": 4,
 "nbformat_minor": 2
}
